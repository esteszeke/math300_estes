{
 "cells": [
  {
   "cell_type": "markdown",
   "metadata": {},
   "source": [
    "# Process\n",
    "* Performing random walk\n",
    "* Representing the world\n",
    "* Collision dynamics\n",
    "    * DLA\n",
    "    * Patchy dynamics\n",
    "    \n",
    "* World as a 2D Array\n",
    "    * {0,1} representation (Occupied or not occupied)\n",
    "    * Can also represent how many particles are attatchd"
   ]
  },
  {
   "cell_type": "code",
   "execution_count": 11,
   "metadata": {},
   "outputs": [
    {
     "data": {
      "text/plain": [
       "setup (generic function with 1 method)"
      ]
     },
     "execution_count": 11,
     "metadata": {},
     "output_type": "execute_result"
    }
   ],
   "source": [
    "function setup(n)\n",
    "    x = fill(0, (n,n))\n",
    "    \n",
    "    center = Int(ceil(n/2))\n",
    "    \n",
    "    x[center,center] = 1\n",
    "    \n",
    "    x\n",
    "end"
   ]
  },
  {
   "cell_type": "code",
   "execution_count": 19,
   "metadata": {},
   "outputs": [
    {
     "data": {
      "text/plain": [
       "10×10 Array{Int64,2}:\n",
       " 0  0  0  0  0  0  0  0  0  0\n",
       " 0  0  0  0  0  0  0  0  0  0\n",
       " 0  0  0  0  0  0  0  0  0  0\n",
       " 0  0  0  0  0  0  0  0  0  0\n",
       " 0  0  0  0  1  0  0  0  0  0\n",
       " 0  0  0  0  0  0  0  0  0  0\n",
       " 0  0  0  0  0  0  0  0  0  0\n",
       " 0  0  0  0  0  0  0  0  0  0\n",
       " 0  0  0  0  0  0  0  0  0  0\n",
       " 0  0  0  0  0  0  0  0  0  0"
      ]
     },
     "execution_count": 19,
     "metadata": {},
     "output_type": "execute_result"
    }
   ],
   "source": [
    "setup(10)"
   ]
  },
  {
   "cell_type": "code",
   "execution_count": 3,
   "metadata": {},
   "outputs": [
    {
     "data": {
      "text/plain": [
       "5×5 Array{Int64,2}:\n",
       " 0  0  0  0  0\n",
       " 0  0  0  0  0\n",
       " 0  0  0  0  0\n",
       " 0  0  0  0  0\n",
       " 0  0  0  0  0"
      ]
     },
     "execution_count": 3,
     "metadata": {},
     "output_type": "execute_result"
    }
   ],
   "source": [
    "x = fill(0, (5,5))"
   ]
  },
  {
   "cell_type": "code",
   "execution_count": 6,
   "metadata": {},
   "outputs": [
    {
     "ename": "LoadError",
     "evalue": "\u001b[91mArgumentError: invalid index: 2.5\u001b[39m",
     "output_type": "error",
     "traceback": [
      "\u001b[91mArgumentError: invalid index: 2.5\u001b[39m",
      "",
      "Stacktrace:",
      " [1] \u001b[1mto_indices\u001b[22m\u001b[22m at \u001b[1m./indices.jl:215\u001b[22m\u001b[22m [inlined]",
      " [2] \u001b[1mto_indices\u001b[22m\u001b[22m at \u001b[1m./indices.jl:213\u001b[22m\u001b[22m [inlined]",
      " [3] \u001b[1msetindex!\u001b[22m\u001b[22m\u001b[1m(\u001b[22m\u001b[22m::Array{Int64,2}, ::Int64, ::Float64, ::Float64\u001b[1m)\u001b[22m\u001b[22m at \u001b[1m./abstractarray.jl:968\u001b[22m\u001b[22m",
      " [4] \u001b[1minclude_string\u001b[22m\u001b[22m\u001b[1m(\u001b[22m\u001b[22m::String, ::String\u001b[1m)\u001b[22m\u001b[22m at \u001b[1m./loading.jl:522\u001b[22m\u001b[22m"
     ]
    }
   ],
   "source": [
    "x[5/2,5/2] = 1 # wrong"
   ]
  },
  {
   "cell_type": "code",
   "execution_count": 16,
   "metadata": {},
   "outputs": [
    {
     "ename": "LoadError",
     "evalue": "\u001b[91mInexactError()\u001b[39m",
     "output_type": "error",
     "traceback": [
      "\u001b[91mInexactError()\u001b[39m",
      "",
      "Stacktrace:",
      " [1] \u001b[1mconvert\u001b[22m\u001b[22m\u001b[1m(\u001b[22m\u001b[22m::Type{Int64}, ::Float64\u001b[1m)\u001b[22m\u001b[22m at \u001b[1m./float.jl:679\u001b[22m\u001b[22m",
      " [2] \u001b[1mInt64\u001b[22m\u001b[22m\u001b[1m(\u001b[22m\u001b[22m::Float64\u001b[1m)\u001b[22m\u001b[22m at \u001b[1m./sysimg.jl:77\u001b[22m\u001b[22m",
      " [3] \u001b[1minclude_string\u001b[22m\u001b[22m\u001b[1m(\u001b[22m\u001b[22m::String, ::String\u001b[1m)\u001b[22m\u001b[22m at \u001b[1m./loading.jl:522\u001b[22m\u001b[22m"
     ]
    }
   ],
   "source": [
    "x[Int(5/2),Int(5/2)] = 1 # wrong"
   ]
  },
  {
   "cell_type": "code",
   "execution_count": 18,
   "metadata": {},
   "outputs": [
    {
     "data": {
      "text/plain": [
       "5×5 Array{Int64,2}:\n",
       " 0  0  0  0  0\n",
       " 0  0  0  0  0\n",
       " 0  0  1  0  0\n",
       " 0  0  0  0  0\n",
       " 0  0  0  0  0"
      ]
     },
     "execution_count": 18,
     "metadata": {},
     "output_type": "execute_result"
    }
   ],
   "source": [
    "x[Int(ceil(5/2)),Int(ceil(5/2))] = 1 # right\n",
    "x"
   ]
  },
  {
   "cell_type": "code",
   "execution_count": 15,
   "metadata": {},
   "outputs": [
    {
     "data": {
      "text/plain": [
       "circpoint (generic function with 1 method)"
      ]
     },
     "execution_count": 15,
     "metadata": {},
     "output_type": "execute_result"
    }
   ],
   "source": [
    "function circpoint(r)\n",
    "    theta = rand() * 2 * pi\n",
    "    r * cos(theta) , r * sin(theta)\n",
    "end"
   ]
  },
  {
   "cell_type": "code",
   "execution_count": 59,
   "metadata": {},
   "outputs": [
    {
     "data": {
      "text/plain": [
       "main (generic function with 1 method)"
      ]
     },
     "execution_count": 59,
     "metadata": {},
     "output_type": "execute_result"
    }
   ],
   "source": [
    "function walk_particle(x, num, radius, maxiters)\n",
    "     \n",
    "    sz = size(x)\n",
    "    px,py = circpoint(radius)\n",
    "    px,py = Int(ceil(px)) + Int(ceil(sz[1]/2)), Int(ceil(py))+ Int(ceil(sz[1]/2))\n",
    "    \n",
    "    iter = 0\n",
    "    while iter < maxiters\n",
    "        if  py > 1 && x[px,py-1] > 0 \n",
    "            #\n",
    "            x[px,py] = num\n",
    "            return (x,num+1)\n",
    "        elseif py < sz[2] && x[px,py+1] > 0 \n",
    "            #\n",
    "            x[px,py] = num\n",
    "            return (x,num+1)\n",
    "        elseif py > 1 && x[px-1,py] > 0\n",
    "            #\n",
    "            x[px,py] = num\n",
    "            return (x,num+1)\n",
    "        elseif py < sz[1] && x[px+1,py] > 0 \n",
    "            #\n",
    "            x[px,py] = num\n",
    "            return (x,num+1)\n",
    "        end\n",
    "        \n",
    "        dir = Int(ceil(rand() * 4))\n",
    "        \n",
    "        if dir == 1\n",
    "            px = px + 1\n",
    "        elseif dir == 2\n",
    "            px = px - 1\n",
    "        elseif dir == 3\n",
    "            py = py - 1\n",
    "        else dir == 4\n",
    "            py = py + 1\n",
    "        end\n",
    "        \n",
    "        if px < 1 || px > sz[1] || py < 1 || py > sz[2]\n",
    "            return (x, num)\n",
    "        end\n",
    "         \n",
    "        iter += 1\n",
    "        \n",
    "    end\n",
    "    \n",
    "    return (x, num)\n",
    "    \n",
    "end\n",
    "\n",
    "function main()\n",
    "    x = setup(101)\n",
    "    \n",
    "    maxpart = 1000\n",
    "    npart = 1\n",
    "    \n",
    "    while npart < maxpart\n",
    "        (x, npart) = walk_particle(x, 45, npart, 1000)\n",
    "    end\n",
    "    \n",
    "    for i=1:size(x)[1]\n",
    "        for j=1:size(x)[2]\n",
    "            if x[i,j] > 0\n",
    "                println(\"$(x[i,j])\")\n",
    "    \n",
    "end"
   ]
  },
  {
   "cell_type": "code",
   "execution_count": null,
   "metadata": {},
   "outputs": [],
   "source": []
  },
  {
   "cell_type": "code",
   "execution_count": 63,
   "metadata": {},
   "outputs": [
    {
     "ename": "LoadError",
     "evalue": "\u001b[91mBoundsError: attempt to access 101×101 Array{Int64,2} at index [0, 65]\u001b[39m",
     "output_type": "error",
     "traceback": [
      "\u001b[91mBoundsError: attempt to access 101×101 Array{Int64,2} at index [0, 65]\u001b[39m",
      "",
      "Stacktrace:",
      " [1] \u001b[1mwalk_particle\u001b[22m\u001b[22m\u001b[1m(\u001b[22m\u001b[22m::Array{Int64,2}, ::Int64, ::Int64, ::Int64\u001b[1m)\u001b[22m\u001b[22m at \u001b[1m./In[59]:17\u001b[22m\u001b[22m",
      " [2] \u001b[1mmain\u001b[22m\u001b[22m\u001b[1m(\u001b[22m\u001b[22m\u001b[1m)\u001b[22m\u001b[22m at \u001b[1m./In[59]:58\u001b[22m\u001b[22m",
      " [3] \u001b[1minclude_string\u001b[22m\u001b[22m\u001b[1m(\u001b[22m\u001b[22m::String, ::String\u001b[1m)\u001b[22m\u001b[22m at \u001b[1m./loading.jl:522\u001b[22m\u001b[22m"
     ]
    }
   ],
   "source": [
    "main()"
   ]
  },
  {
   "cell_type": "code",
   "execution_count": null,
   "metadata": {},
   "outputs": [],
   "source": []
  }
 ],
 "metadata": {
  "kernelspec": {
   "display_name": "Julia 0.6.1",
   "language": "julia",
   "name": "julia-0.6"
  },
  "language_info": {
   "file_extension": ".jl",
   "mimetype": "application/julia",
   "name": "julia",
   "version": "0.6.1"
  }
 },
 "nbformat": 4,
 "nbformat_minor": 2
}
