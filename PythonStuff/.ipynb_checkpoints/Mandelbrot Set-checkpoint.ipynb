{
 "cells": [
  {
   "cell_type": "code",
   "execution_count": 55,
   "metadata": {},
   "outputs": [],
   "source": [
    "import sympy as symp\n",
    "import matplotlib.pyplot as plt\n",
    "import numpy as np\n",
    "from numba import jit"
   ]
  },
  {
   "cell_type": "code",
   "execution_count": 79,
   "metadata": {},
   "outputs": [],
   "source": [
    "@jit\n",
    "def f(z,c):\n",
    "    return z**2 + c"
   ]
  },
  {
   "cell_type": "code",
   "execution_count": 99,
   "metadata": {},
   "outputs": [],
   "source": [
    "@jit\n",
    "def iterate(c, maxiters, escapevalue):\n",
    "    z = complex(0.0, 0.0)\n",
    "    for i in range(maxiters):\n",
    "        z = f(z,c)\n",
    "        if abs(z) > escapevalue:\n",
    "            return i\n",
    "    return maxiters"
   ]
  },
  {
   "cell_type": "code",
   "execution_count": 100,
   "metadata": {},
   "outputs": [],
   "source": [
    "xlo, xhi = -2, 1\n",
    "ylo, yhi = -1, 1"
   ]
  },
  {
   "cell_type": "code",
   "execution_count": 126,
   "metadata": {},
   "outputs": [],
   "source": [
    "im = np.empty( (480,640) )"
   ]
  },
  {
   "cell_type": "code",
   "execution_count": 127,
   "metadata": {},
   "outputs": [],
   "source": [
    "xdelta = float(xhi - xlo) / float(im.shape[1])\n",
    "ydelta = float(yhi - ylo) / float(im.shape[0])"
   ]
  },
  {
   "cell_type": "code",
   "execution_count": 132,
   "metadata": {},
   "outputs": [],
   "source": [
    "for i in range(im.shape[0]):\n",
    "    for j in range(im.shape[1]):\n",
    "        im[i,j] = iterate(complex(xlo + xdelta*j, ylo + ydelta*i), 20000, 200.0)"
   ]
  },
  {
   "cell_type": "code",
   "execution_count": 133,
   "metadata": {},
   "outputs": [
    {
     "data": {
      "text/plain": [
       "array([[ 4.,  4.,  4., ...,  4.,  4.,  4.],\n",
       "       [ 4.,  4.,  4., ...,  4.,  4.,  4.],\n",
       "       [ 4.,  4.,  4., ...,  4.,  4.,  4.],\n",
       "       ..., \n",
       "       [ 4.,  4.,  4., ...,  4.,  4.,  4.],\n",
       "       [ 4.,  4.,  4., ...,  4.,  4.,  4.],\n",
       "       [ 4.,  4.,  4., ...,  4.,  4.,  4.]])"
      ]
     },
     "execution_count": 133,
     "metadata": {},
     "output_type": "execute_result"
    }
   ],
   "source": [
    "im"
   ]
  },
  {
   "cell_type": "code",
   "execution_count": 136,
   "metadata": {},
   "outputs": [
    {
     "data": {
      "image/png": "[encoded data removed]",
      "text/plain": [
       "<matplotlib.figure.Figure at 0x10954d438>"
      ]
     },
     "metadata": {},
     "output_type": "display_data"
    }
   ],
   "source": [
    "plt.imshow(im)\n",
    "plt.show()"
   ]
  },
  {
   "cell_type": "markdown",
   "metadata": {},
   "source": [
    "import sklearn.cluster as cluster"
   ]
  },
  {
   "cell_type": "code",
   "execution_count": null,
   "metadata": {},
   "outputs": [],
   "source": []
  }
 ],
 "metadata": {
  "kernelspec": {
   "display_name": "Python 3",
   "language": "python",
   "name": "python3"
  },
  "language_info": {
   "codemirror_mode": {
    "name": "ipython",
    "version": 3
   },
   "file_extension": ".py",
   "mimetype": "text/x-python",
   "name": "python",
   "nbconvert_exporter": "python",
   "pygments_lexer": "ipython3",
   "version": "3.6.3"
  }
 },
 "nbformat": 4,
 "nbformat_minor": 2
}
