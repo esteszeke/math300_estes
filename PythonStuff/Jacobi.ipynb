{
 "cells": [
  {
   "cell_type": "code",
   "execution_count": 4,
   "metadata": {},
   "outputs": [],
   "source": [
    "import numpy as np"
   ]
  },
  {
   "cell_type": "code",
   "execution_count": 58,
   "metadata": {},
   "outputs": [],
   "source": [
    "def jacobi(u, eps=1):\n",
    "    x = u.copy()\n",
    "    y = u.copy()\n",
    "    \n",
    "    delt = eps + 1.0\n",
    "    while delt > eps:\n",
    "        for i in range(1, u.shape[0]-1):\n",
    "            for j in range(1, u.shape[1]-1):\n",
    "                y[i,j] = (x[i-1,j] + x[i+1,j] + x[i,j-1] + x[i,j+1]) / 4.0\n",
    "        delt = np.sum( np. abs(x - y) )\n",
    "        x, y = y, x     # Double buffering concept, short hand in python for doing swaps\n",
    "        \n",
    "    return x"
   ]
  },
  {
   "cell_type": "code",
   "execution_count": 59,
   "metadata": {},
   "outputs": [
    {
     "data": {
      "text/plain": [
       "array([[ 0.,  0.,  0.,  0.,  0.,  0.,  0.,  0.,  0.,  0.],\n",
       "       [ 0.,  0.,  0.,  0.,  0.,  0.,  0.,  0.,  0.,  0.],\n",
       "       [ 0.,  0.,  0.,  0.,  0.,  0.,  0.,  0.,  0.,  0.],\n",
       "       [ 0.,  0.,  0.,  0.,  0.,  0.,  0.,  0.,  0.,  0.],\n",
       "       [ 0.,  0.,  0.,  0.,  0.,  0.,  0.,  0.,  0.,  0.],\n",
       "       [ 0.,  0.,  0.,  0.,  0.,  0.,  0.,  0.,  0.,  0.],\n",
       "       [ 0.,  0.,  0.,  0.,  0.,  0.,  0.,  0.,  0.,  0.],\n",
       "       [ 0.,  0.,  0.,  0.,  0.,  0.,  0.,  0.,  0.,  0.],\n",
       "       [ 0.,  0.,  0.,  0.,  0.,  0.,  0.,  0.,  0.,  0.],\n",
       "       [ 0.,  0.,  0.,  0.,  0.,  0.,  0.,  0.,  0.,  0.]])"
      ]
     },
     "execution_count": 59,
     "metadata": {},
     "output_type": "execute_result"
    }
   ],
   "source": [
    "u = np.zeros((10,10))\n",
    "u"
   ]
  },
  {
   "cell_type": "code",
   "execution_count": 64,
   "metadata": {},
   "outputs": [
    {
     "data": {
      "text/plain": [
       "array([[ 100.,  100.,  100.,  100.,  100.,  100.,  100.,  100.,  100.,\n",
       "         100.],\n",
       "       [   0.,    0.,    0.,    0.,    0.,    0.,    0.,    0.,    0.,\n",
       "           0.],\n",
       "       [   0.,    0.,    0.,    0.,    0.,    0.,    0.,    0.,    0.,\n",
       "           0.],\n",
       "       [   0.,    0.,    0.,    0.,    0.,    0.,    0.,    0.,    0.,\n",
       "           0.],\n",
       "       [   0.,    0.,    0.,    0.,    0.,    0.,    0.,    0.,    0.,\n",
       "           0.],\n",
       "       [   0.,    0.,    0.,    0.,    0.,    0.,    0.,    0.,    0.,\n",
       "           0.],\n",
       "       [   0.,    0.,    0.,    0.,    0.,    0.,    0.,    0.,    0.,\n",
       "           0.],\n",
       "       [   0.,    0.,    0.,    0.,    0.,    0.,    0.,    0.,    0.,\n",
       "           0.],\n",
       "       [   0.,    0.,    0.,    0.,    0.,    0.,    0.,    0.,    0.,\n",
       "           0.],\n",
       "       [   0.,    0.,    0.,    0.,    0.,    0.,    0.,    0.,    0.,\n",
       "           0.]])"
      ]
     },
     "execution_count": 64,
     "metadata": {},
     "output_type": "execute_result"
    }
   ],
   "source": [
    "u[0,:]=100\n",
    "u"
   ]
  },
  {
   "cell_type": "code",
   "execution_count": 65,
   "metadata": {},
   "outputs": [],
   "source": [
    "v = jacobi(u)"
   ]
  },
  {
   "cell_type": "code",
   "execution_count": 52,
   "metadata": {},
   "outputs": [],
   "source": [
    "import matplotlib.pyplot as plt"
   ]
  },
  {
   "cell_type": "code",
   "execution_count": 66,
   "metadata": {},
   "outputs": [
    {
     "data": {
      "text/plain": [
       "array([[ 100.        ,  100.        ,  100.        ,  100.        ,\n",
       "         100.        ,  100.        ,  100.        ,  100.        ,\n",
       "         100.        ,  100.        ],\n",
       "       [   0.        ,   48.57288888,   66.80811301,   74.33326246,\n",
       "          77.18440746,   77.18440746,   74.33326246,   66.80811301,\n",
       "          48.57288888,    0.        ],\n",
       "       [   0.        ,   27.49702316,   44.35182963,   53.3749187 ,\n",
       "          57.2590695 ,   57.2590695 ,   53.3749187 ,   44.35182963,\n",
       "          27.49702316,    0.        ],\n",
       "       [   0.        ,   17.08888663,   29.77520076,   37.62010943,\n",
       "          41.29133197,   41.29133197,   37.62010943,   29.77520076,\n",
       "          17.08888663,    0.        ],\n",
       "       [   0.        ,   11.11765191,   20.10450983,   26.12591619,\n",
       "          29.09367876,   29.09367876,   26.12591619,   20.10450983,\n",
       "          11.11765191,    0.        ],\n",
       "       [   0.        ,    7.31620969,   13.47254725,   17.78410874,\n",
       "          19.97606344,   19.97606344,   17.78410874,   13.47254725,\n",
       "           7.31620969,    0.        ],\n",
       "       [   0.        ,    4.71357634,    8.75855433,   11.6605051 ,\n",
       "          13.16253314,   13.16253314,   11.6605051 ,    8.75855433,\n",
       "           4.71357634,    0.        ],\n",
       "       [   0.        ,    2.81374714,    5.25186004,    7.02343128,\n",
       "           7.9495081 ,    7.9495081 ,    7.02343128,    5.25186004,\n",
       "           2.81374714,    0.        ],\n",
       "       [   0.        ,    1.3149083 ,    2.45937205,    3.29605955,\n",
       "           3.73558065,    3.73558065,    3.29605955,    2.45937205,\n",
       "           1.3149083 ,    0.        ],\n",
       "       [   0.        ,    0.        ,    0.        ,    0.        ,\n",
       "           0.        ,    0.        ,    0.        ,    0.        ,\n",
       "           0.        ,    0.        ]])"
      ]
     },
     "execution_count": 66,
     "metadata": {},
     "output_type": "execute_result"
    }
   ],
   "source": [
    "v"
   ]
  },
  {
   "cell_type": "code",
   "execution_count": null,
   "metadata": {},
   "outputs": [],
   "source": []
  }
 ],
 "metadata": {
  "kernelspec": {
   "display_name": "Python 3",
   "language": "python",
   "name": "python3"
  },
  "language_info": {
   "codemirror_mode": {
    "name": "ipython",
    "version": 3
   },
   "file_extension": ".py",
   "mimetype": "text/x-python",
   "name": "python",
   "nbconvert_exporter": "python",
   "pygments_lexer": "ipython3",
   "version": "3.6.2"
  }
 },
 "nbformat": 4,
 "nbformat_minor": 2
}
