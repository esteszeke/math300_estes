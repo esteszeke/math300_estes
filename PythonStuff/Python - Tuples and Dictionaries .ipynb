{
 "cells": [
  {
   "cell_type": "code",
   "execution_count": 1,
   "metadata": {},
   "outputs": [],
   "source": [
    "c=(1.6,2.3,-1.8)"
   ]
  },
  {
   "cell_type": "code",
   "execution_count": 2,
   "metadata": {},
   "outputs": [
    {
     "data": {
      "text/plain": [
       "2.3"
      ]
     },
     "execution_count": 2,
     "metadata": {},
     "output_type": "execute_result"
    }
   ],
   "source": [
    "c[1]"
   ]
  },
  {
   "cell_type": "code",
   "execution_count": 3,
   "metadata": {},
   "outputs": [],
   "source": [
    "cnew=[c[0],c[2],10]"
   ]
  },
  {
   "cell_type": "code",
   "execution_count": 4,
   "metadata": {},
   "outputs": [
    {
     "data": {
      "text/plain": [
       "[1.6, -1.8, 10]"
      ]
     },
     "execution_count": 4,
     "metadata": {},
     "output_type": "execute_result"
    }
   ],
   "source": [
    "cnew"
   ]
  },
  {
   "cell_type": "code",
   "execution_count": 18,
   "metadata": {},
   "outputs": [],
   "source": [
    "x=1\n",
    "y=2"
   ]
  },
  {
   "cell_type": "code",
   "execution_count": 23,
   "metadata": {},
   "outputs": [
    {
     "name": "stdout",
     "output_type": "stream",
     "text": [
      "2 1\n"
     ]
    }
   ],
   "source": [
    "(x,y)=(y,x)\n",
    "print(x,y)"
   ]
  },
  {
   "cell_type": "raw",
   "metadata": {},
   "source": [
    "Dictionary is a mapping"
   ]
  },
  {
   "cell_type": "raw",
   "metadata": {},
   "source": [
    "x['john'] --> 'smith'\n",
    "Lookup is a constant time\n",
    "==> Hashtables\n",
    "\n",
    "if I want to create an empty dictionary;\n",
    "grades = { }          \\\\this is an emoty dictionary with no values in it\n",
    "grades['Matt'] = 79.5 \\\\can add things to it like this\n",
    "________________________________________________________________________"
   ]
  },
  {
   "cell_type": "code",
   "execution_count": 26,
   "metadata": {},
   "outputs": [
    {
     "name": "stdout",
     "output_type": "stream",
     "text": [
      "{'Matt': 79.5, 'Eli': 66.0}\n"
     ]
    }
   ],
   "source": [
    "grades={}\n",
    "grades['Matt'] = 79.5\n",
    "grades['Eli'] = 66.0\n",
    "print(grades)"
   ]
  },
  {
   "cell_type": "raw",
   "metadata": {},
   "source": [
    "len(d)     --> the number of keys\n",
    "d.keys()   --> a list of keys\n",
    "d.values() --> list of the values\n",
    "% 'Matt' in grades % would return %True%, because it is in the dict 'grades'\n",
    "\n",
    "for student in grades:\n",
    "    print(grades[student])"
   ]
  },
  {
   "cell_type": "code",
   "execution_count": 28,
   "metadata": {},
   "outputs": [
    {
     "data": {
      "text/plain": [
       "True"
      ]
     },
     "execution_count": 28,
     "metadata": {},
     "output_type": "execute_result"
    }
   ],
   "source": [
    "'Matt' in grades"
   ]
  },
  {
   "cell_type": "code",
   "execution_count": 33,
   "metadata": {},
   "outputs": [
    {
     "name": "stdout",
     "output_type": "stream",
     "text": [
      "79.5\n",
      "66.0\n"
     ]
    }
   ],
   "source": [
    "for students in grades:\n",
    "    print(grades[students])"
   ]
  },
  {
   "cell_type": "raw",
   "metadata": {},
   "source": [
    "in python there is a special function called \"open(%file%)\""
   ]
  },
  {
   "cell_type": "code",
   "execution_count": 34,
   "metadata": {},
   "outputs": [],
   "source": [
    "inventory = {}\n",
    "\n",
    "f = open('retail/products.csv') # opens the files products.csv\n",
    "\n",
    "lines = f.readlines()           # reads all of the lines in the file and stores them in a list called lines\n",
    "\n",
    "# will \n",
    "        \n"
   ]
  },
  {
   "cell_type": "code",
   "execution_count": 35,
   "metadata": {},
   "outputs": [
    {
     "data": {
      "text/plain": [
       "['i', 'am', 'a', 'sentence']"
      ]
     },
     "execution_count": 35,
     "metadata": {},
     "output_type": "execute_result"
    }
   ],
   "source": [
    "s = 'i am a sentence'\n",
    "s.split(' ')"
   ]
  },
  {
   "cell_type": "code",
   "execution_count": null,
   "metadata": {},
   "outputs": [],
   "source": []
  }
 ],
 "metadata": {
  "kernelspec": {
   "display_name": "Python 3",
   "language": "python",
   "name": "python3"
  },
  "language_info": {
   "codemirror_mode": {
    "name": "ipython",
    "version": 3
   },
   "file_extension": ".py",
   "mimetype": "text/x-python",
   "name": "python",
   "nbconvert_exporter": "python",
   "pygments_lexer": "ipython3",
   "version": "3.6.2"
  }
 },
 "nbformat": 4,
 "nbformat_minor": 2
}
