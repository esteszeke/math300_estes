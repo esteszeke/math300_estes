{
 "cells": [
  {
   "cell_type": "code",
   "execution_count": null,
   "metadata": {},
   "outputs": [
    {
     "name": "stderr",
     "output_type": "stream",
     "text": [
      "/Library/Frameworks/Python.framework/Versions/3.6/lib/python3.6/site-packages/ipykernel_launcher.py:17: DeprecationWarning: object of type <class 'float'> cannot be safely interpreted as an integer.\n",
      "/Library/Frameworks/Python.framework/Versions/3.6/lib/python3.6/site-packages/ipykernel_launcher.py:18: DeprecationWarning: object of type <class 'float'> cannot be safely interpreted as an integer.\n"
     ]
    }
   ],
   "source": [
    "\"\"\"\n",
    "===================================\n",
    "Shaded & power normalized rendering\n",
    "===================================\n",
    "\n",
    "The Mandelbrot set rendering can be improved by using a normalized recount\n",
    "associated with a power normalized colormap (gamma=0.3). Rendering can be\n",
    "further enhanced thanks to shading.\n",
    "\n",
    "The `maxiter` gives the precision of the computation. `maxiter=200` should\n",
    "take a few seconds on most modern laptops.\n",
    "\"\"\"\n",
    "import numpy as np\n",
    "\n",
    "\n",
    "def mandelbrot_set(xmin, xmax, ymin, ymax, xn, yn, maxiter, horizon=2.0):\n",
    "    X = np.linspace(xmin, xmax, xn, dtype=np.float32)\n",
    "    Y = np.linspace(ymin, ymax, yn, dtype=np.float32)\n",
    "    C = X + Y[:, None]*1j\n",
    "    N = np.zeros(C.shape, dtype=int)\n",
    "    Z = np.zeros(C.shape, np.complex64)\n",
    "    for n in range(maxiter):\n",
    "        I = np.less(abs(Z), horizon)\n",
    "        N[I] = n\n",
    "        Z[I] = Z[I]**2 + C[I]\n",
    "    N[N == maxiter-1] = 0\n",
    "    return Z, N\n",
    "\n",
    "\n",
    "if __name__ == '__main__':\n",
    "    import time\n",
    "    import matplotlib\n",
    "    from matplotlib import colors\n",
    "    import matplotlib.pyplot as plt\n",
    "\n",
    "    xmin, xmax, xn = -2.25, +0.75, 3000/2\n",
    "    ymin, ymax, yn = -1.25, +1.25, 2500/2\n",
    "    maxiter = 200\n",
    "    horizon = 2.0 ** 40\n",
    "    log_horizon = np.log(np.log(horizon))/np.log(2)\n",
    "    Z, N = mandelbrot_set(xmin, xmax, ymin, ymax, xn, yn, maxiter, horizon)\n",
    "\n",
    "    # Normalized recount as explained in:\n",
    "    # https://linas.org/art-gallery/escape/smooth.html\n",
    "    # https://www.ibm.com/developerworks/community/blogs/jfp/entry/My_Christmas_Gift\n",
    "\n",
    "    # This line will generate warnings for null values but it is faster to\n",
    "    # process them afterwards using the nan_to_num\n",
    "    with np.errstate(invalid='ignore'):\n",
    "        M = np.nan_to_num(N + 1 -\n",
    "                          np.log(np.log(abs(Z)))/np.log(2) +\n",
    "                          log_horizon)\n",
    "\n",
    "    dpi = 300\n",
    "    width = 10\n",
    "    height = 10*yn/xn\n",
    "    fig = plt.figure(figsize=(width, height), dpi=dpi)\n",
    "    ax = fig.add_axes([0.0, 0.0, 1.0, 1.0], frameon=False, aspect=1)\n",
    "\n",
    "    # Shaded rendering\n",
    "    light = colors.LightSource(azdeg=315, altdeg=10)\n",
    "    M = light.shade(M, cmap=plt.cm.hot, vert_exag=1.5,\n",
    "                    norm=colors.PowerNorm(0.3), blend_mode='hsv')\n",
    "    plt.imshow(M, extent=[xmin, xmax, ymin, ymax], interpolation=\"bicubic\")\n",
    "    ax.set_xticks([])\n",
    "    ax.set_yticks([])\n",
    "\n",
    "    fig = plt.gcf()\n",
    "    fig.set_size_inches(180,100)\n",
    "    fig.savefig('mand.png', dpi=300)"
   ]
  },
  {
   "cell_type": "code",
   "execution_count": null,
   "metadata": {},
   "outputs": [],
   "source": []
  }
 ],
 "metadata": {
  "kernelspec": {
   "display_name": "Python 3",
   "language": "python",
   "name": "python3"
  },
  "language_info": {
   "codemirror_mode": {
    "name": "ipython",
    "version": 3
   },
   "file_extension": ".py",
   "mimetype": "text/x-python",
   "name": "python",
   "nbconvert_exporter": "python",
   "pygments_lexer": "ipython3",
   "version": "3.6.2"
  }
 },
 "nbformat": 4,
 "nbformat_minor": 2
}
