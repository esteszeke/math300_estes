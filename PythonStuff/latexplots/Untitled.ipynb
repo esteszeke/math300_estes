{
 "cells": [
  {
   "cell_type": "code",
   "execution_count": 3,
   "metadata": {},
   "outputs": [
    {
     "name": "stderr",
     "output_type": "stream",
     "text": [
      "/usr/local/lib/python3.6/site-packages/matplotlib/__init__.py:800: MatplotlibDeprecationWarning: text.fontsize is deprecated and replaced with font.size; please use the latter.\n",
      "  mplDeprecation)\n",
      "/usr/local/lib/python3.6/site-packages/matplotlib/backends/backend_pgf.py:54: UserWarning: error getting fonts from fc-list\n",
      "  warnings.warn('error getting fonts from fc-list', UserWarning)\n"
     ]
    }
   ],
   "source": [
    "import numpy as np\n",
    "import matplotlib as mpl\n",
    "mpl.use('pgf')\n",
    "def figsize(scale):\n",
    "    fig_width_pt = 469.755                          # Get this from LaTeX using \\the\\textwidth\n",
    "    inches_per_pt = 1.0/72.27                       # Convert pt to inch\n",
    "    golden_mean = (np.sqrt(5.0)-1.0)/2.0            # Aesthetic ratio (you could change this)\n",
    "    fig_width = fig_width_pt*inches_per_pt*scale    # width in inches\n",
    "    fig_height = fig_width*golden_mean              # height in inches\n",
    "    fig_size = [fig_width,fig_height]\n",
    "    return fig_size\n",
    "\n",
    "pgf_with_latex = {                      # setup matplotlib to use latex for output\n",
    "\"pgf.texsystem\": \"pdflatex\",        # change this if using xetex or lautex\n",
    "\"text.usetex\": True,                # use LaTeX to write all text\n",
    "\"font.family\": \"serif\",\n",
    "\"font.serif\": [],                   # blank entries should cause plots to inherit fonts from the document\n",
    "\"font.sans-serif\": [],\n",
    "\"font.monospace\": [],\n",
    "\"axes.labelsize\": 10,               # LaTeX default is 10pt font.\n",
    "\"text.fontsize\": 10,\n",
    "\"legend.fontsize\": 8,               # Make the legend/label fonts a little smaller\n",
    "\"xtick.labelsize\": 8,\n",
    "\"ytick.labelsize\": 8,\n",
    "\"figure.figsize\": figsize(0.9),     # default fig size of 0.9 textwidth\n",
    "\"pgf.preamble\": [\n",
    "r\"\\usepackage[utf8x]{inputenc}\",    # use utf8 fonts becasue your computer can handle it :)\n",
    "r\"\\usepackage[T1]{fontenc}\",        # plots will be generated using this preamble\n",
    "        ]\n",
    "    }\n",
    "\n",
    "mpl.rcParams.update(pgf_with_latex)\n",
    "import matplotlib.pyplot as plt\n",
    "# I make my own newfig and savefig functions\n",
    "\n",
    "def newfig(width):\n",
    "    plt.clf()\n",
    "    fig = plt.figure(figsize=figsize(width))\n",
    "    ax = fig.add_subplot(111)\n",
    "    return fig, ax\n",
    "\n",
    "def savefig(filename):\n",
    "    plt.savefig('{}.pgf'.format(filename))\n",
    "    plt.savefig('{}.pdf'.format(filename))\n",
    "\n",
    "# Simple plot\n",
    "fig, ax  = newfig(0.6)\n",
    "def ema(y, a):\n",
    "    s = []\n",
    "    s.append(y[0])\n",
    "    for t in range(1, len(y)):\n",
    "        s.append(a * y[t] + (1-a) * s[t-1])\n",
    "    return np.array(s)\n",
    "\n",
    "y = [0]*200\n",
    "y.extend([20]*(1000-len(y)))\n",
    "s = ema(y, 0.01)\n",
    "ax.plot(s)\n",
    "ax.set_xlabel('X Label')\n",
    "ax.set_ylabel('EMA')\n",
    "savefig('ema')"
   ]
  },
  {
   "cell_type": "code",
   "execution_count": 5,
   "metadata": {},
   "outputs": [
    {
     "name": "stdout",
     "output_type": "stream",
     "text": [
      "=========================================================\n",
      "Please add the following lines to your LaTeX preamble:\n",
      "\n",
      "\\usepackage[utf8]{inputenc}\n",
      "\\usepackage{fontspec} % This line only for XeLaTeX and LuaLaTeX\n",
      "\\usepackage{pgfplots}\n",
      "=========================================================\n",
      "Horizontal alignment will be ignored as no 'x tick label text width' has been passed in the 'extra' parameter\n",
      "Horizontal alignment will be ignored as no 'y tick label text width' has been passed in the 'extra' parameter\n"
     ]
    }
   ],
   "source": [
    "import matplotlib.pyplot as plt\n",
    "import numpy as np\n",
    "\n",
    "plt.style.use('ggplot')\n",
    "\n",
    "t = np.arange(0.0, 2.0, 0.1)\n",
    "s = np.sin(2*np.pi*t)\n",
    "s2 = np.cos(2*np.pi*t)\n",
    "plt.plot(t, s, 'o-', lw=4.1)\n",
    "plt.plot(t, s2, 'o-', lw=4.1)\n",
    "plt.xlabel('time(s)')\n",
    "plt.ylabel('Voltage (mV)')\n",
    "plt.title('Simple plot $\\\\frac{\\\\alpha}{2}$')\n",
    "plt.grid(True)\n",
    "plt.show()\n",
    "\n",
    "from matplotlib2tikz import save as tikz_save\n",
    "tikz_save('test.tex')"
   ]
  },
  {
   "cell_type": "code",
   "execution_count": 7,
   "metadata": {},
   "outputs": [
    {
     "name": "stderr",
     "output_type": "stream",
     "text": [
      "/usr/local/lib/python3.6/site-packages/matplotlib/cbook/deprecation.py:106: MatplotlibDeprecationWarning: Adding an axes using the same arguments as a previous axes currently reuses the earlier instance.  In a future version, a new instance will always be created and returned.  Meanwhile, this warning can be suppressed, and the future behavior ensured, by passing a unique label to each axes instance.\n",
      "  warnings.warn(message, mplDeprecation, stacklevel=1)\n"
     ]
    }
   ],
   "source": [
    "import numpy as np\n",
    "import matplotlib.pyplot as plt\n",
    "\n",
    "def f(t):\n",
    "    return np.exp(-t) * np.cos(2*np.pi*t)\n",
    "\n",
    "t1 = np.arange(0.0, 5.0, 0.1)\n",
    "t2 = np.arange(0.0, 5.0, 0.02)\n",
    "\n",
    "plt.figure(1)\n",
    "plt.subplot(211)\n",
    "plt.plot(t1, f(t1), 'bo', t2, f(t2), 'k')\n",
    "\n",
    "plt.subplot(212)\n",
    "plt.plot(t2, np.cos(2*np.pi*t2), 'r--')\n",
    "plt.show()"
   ]
  },
  {
   "cell_type": "code",
   "execution_count": null,
   "metadata": {},
   "outputs": [],
   "source": []
  }
 ],
 "metadata": {
  "kernelspec": {
   "display_name": "Python 3",
   "language": "python",
   "name": "python3"
  },
  "language_info": {
   "codemirror_mode": {
    "name": "ipython",
    "version": 3
   },
   "file_extension": ".py",
   "mimetype": "text/x-python",
   "name": "python",
   "nbconvert_exporter": "python",
   "pygments_lexer": "ipython3",
   "version": "3.6.3"
  }
 },
 "nbformat": 4,
 "nbformat_minor": 2
}
