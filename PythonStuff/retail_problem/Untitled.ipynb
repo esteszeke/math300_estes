{
 "cells": [
  {
   "cell_type": "code",
   "execution_count": 19,
   "metadata": {},
   "outputs": [],
   "source": [
    "inventory = {}\n",
    "f = open ('retail/products.csv')\n",
    "\n",
    "ilines = f.readlines()"
   ]
  },
  {
   "cell_type": "code",
   "execution_count": 20,
   "metadata": {},
   "outputs": [
    {
     "data": {
      "text/plain": [
       "['\\ufeffproduct ID,description,unit price\\n',\n",
       " '1234,bananas,0.33\\n',\n",
       " '33,apples,0.49\\n',\n",
       " '39,chicken,7.72\\n',\n",
       " '452,soup,1.5\\n',\n",
       " '888,potato chips,2.99\\n',\n",
       " '111,beer,6.99\\n',\n",
       " '8,newspaper,1\\n',\n",
       " '6,soap,2.99\\n',\n",
       " '12,toothpaste,4.99\\n',\n",
       " '999,coffee,13.99\\n']"
      ]
     },
     "execution_count": 20,
     "metadata": {},
     "output_type": "execute_result"
    }
   ],
   "source": [
    "ilines"
   ]
  },
  {
   "cell_type": "code",
   "execution_count": 21,
   "metadata": {},
   "outputs": [
    {
     "data": {
      "text/plain": [
       "['1234,bananas,0.33\\n',\n",
       " '33,apples,0.49\\n',\n",
       " '39,chicken,7.72\\n',\n",
       " '452,soup,1.5\\n',\n",
       " '888,potato chips,2.99\\n',\n",
       " '111,beer,6.99\\n',\n",
       " '8,newspaper,1\\n',\n",
       " '6,soap,2.99\\n',\n",
       " '12,toothpaste,4.99\\n',\n",
       " '999,coffee,13.99\\n']"
      ]
     },
     "execution_count": 21,
     "metadata": {},
     "output_type": "execute_result"
    }
   ],
   "source": [
    "ilines[1:]"
   ]
  },
  {
   "cell_type": "code",
   "execution_count": 22,
   "metadata": {},
   "outputs": [
    {
     "data": {
      "text/plain": [
       "'1234,bananas,0.33'"
      ]
     },
     "execution_count": 22,
     "metadata": {},
     "output_type": "execute_result"
    }
   ],
   "source": [
    "ilines[1:][0][:-1]"
   ]
  },
  {
   "cell_type": "raw",
   "metadata": {},
   "source": [
    "This cuts off the first character, displays the 0th element, and cuts off the last character. "
   ]
  },
  {
   "cell_type": "code",
   "execution_count": 23,
   "metadata": {},
   "outputs": [
    {
     "name": "stdout",
     "output_type": "stream",
     "text": [
      "1234 maps to ('bananas', 0.33)\n",
      "33 maps to ('apples', 0.49)\n",
      "39 maps to ('chicken', 7.72)\n",
      "452 maps to ('soup', 1.5)\n",
      "888 maps to ('potato chips', 2.99)\n",
      "111 maps to ('beer', 6.99)\n",
      "8 maps to ('newspaper', 1.0)\n",
      "6 maps to ('soap', 2.99)\n",
      "12 maps to ('toothpaste', 4.99)\n",
      "999 maps to ('coffee', 13.99)\n"
     ]
    }
   ],
   "source": [
    "for line in ilines[1:]:\n",
    "    parts = line[:-1].split(',')\n",
    "    inventory[parts[0]] = (parts[1], float(parts[2]))\n",
    "    print(parts[0]+' maps to '+str(inventory[parts[0]]))"
   ]
  },
  {
   "cell_type": "code",
   "execution_count": 24,
   "metadata": {},
   "outputs": [
    {
     "data": {
      "text/plain": [
       "{'111': ('beer', 6.99),\n",
       " '12': ('toothpaste', 4.99),\n",
       " '1234': ('bananas', 0.33),\n",
       " '33': ('apples', 0.49),\n",
       " '39': ('chicken', 7.72),\n",
       " '452': ('soup', 1.5),\n",
       " '6': ('soap', 2.99),\n",
       " '8': ('newspaper', 1.0),\n",
       " '888': ('potato chips', 2.99),\n",
       " '999': ('coffee', 13.99)}"
      ]
     },
     "execution_count": 24,
     "metadata": {},
     "output_type": "execute_result"
    }
   ],
   "source": [
    "inventory"
   ]
  },
  {
   "cell_type": "code",
   "execution_count": 26,
   "metadata": {},
   "outputs": [],
   "source": [
    "baskets = {}\n",
    "f = open ('retail/baskets.csv')\n",
    "\n",
    "blines = f.readlines()"
   ]
  },
  {
   "cell_type": "code",
   "execution_count": 27,
   "metadata": {},
   "outputs": [
    {
     "data": {
      "text/plain": [
       "['\\ufeffbasket ID,product ID,quantity\\n',\n",
       " '1,1234,2\\n',\n",
       " '1,33,1\\n',\n",
       " '2,1234,1\\n',\n",
       " '2,39,2\\n',\n",
       " '2,452,1\\n',\n",
       " '3,888,2\\n',\n",
       " '3,111,1\\n',\n",
       " '4,33,1\\n',\n",
       " '5,8,2\\n',\n",
       " '5,1234,1\\n',\n",
       " '6,6,1\\n',\n",
       " '6,33,2\\n',\n",
       " '6,12,2\\n',\n",
       " '6,999,1\\n']"
      ]
     },
     "execution_count": 27,
     "metadata": {},
     "output_type": "execute_result"
    }
   ],
   "source": [
    "blines"
   ]
  },
  {
   "cell_type": "code",
   "execution_count": 41,
   "metadata": {},
   "outputs": [
    {
     "data": {
      "text/plain": [
       "('beer', 6.99)"
      ]
     },
     "execution_count": 41,
     "metadata": {},
     "output_type": "execute_result"
    }
   ],
   "source": [
    "inventory['111']"
   ]
  },
  {
   "cell_type": "code",
   "execution_count": 55,
   "metadata": {},
   "outputs": [],
   "source": [
    "def read_inventory(fname):\n",
    "    inventory = {}\n",
    "    f = open(fname)\n",
    "    lines = f.readlines()\n",
    "    for line in lines[1:]:\n",
    "        parts = line[:-1].split(',')\n",
    "        inventory[parts[0]] = (parts[1], float(parts[2]))    \n",
    "    f.close()\n",
    "    return inventory"
   ]
  },
  {
   "cell_type": "code",
   "execution_count": 56,
   "metadata": {},
   "outputs": [
    {
     "data": {
      "text/plain": [
       "{'111': ('beer', 6.99),\n",
       " '12': ('toothpaste', 4.99),\n",
       " '1234': ('bananas', 0.33),\n",
       " '33': ('apples', 0.49),\n",
       " '39': ('chicken', 7.72),\n",
       " '452': ('soup', 1.5),\n",
       " '6': ('soap', 2.99),\n",
       " '8': ('newspaper', 1.0),\n",
       " '888': ('potato chips', 2.99),\n",
       " '999': ('coffee', 13.99)}"
      ]
     },
     "execution_count": 56,
     "metadata": {},
     "output_type": "execute_result"
    }
   ],
   "source": [
    "inventory = read_inventory('retail/products.csv')\n",
    "inventory"
   ]
  },
  {
   "cell_type": "code",
   "execution_count": 62,
   "metadata": {},
   "outputs": [],
   "source": [
    "def read_baskets(fname):\n",
    "    baskets = {}\n",
    "    f = open(fname)\n",
    "    lines = f.readlines()\n",
    "    for line in lines[1:]:\n",
    "        parts = line[:-1].split(',')\n",
    "        \n",
    "        if parts[0] in baskets:\n",
    "            baskets[ parts[0] ].append( (parts[1], int(parts[2]) ) )\n",
    "        else: \n",
    "            baskets[ parts[0] ] = [(parts[1], int(parts[2]) ) ]\n",
    "            \n",
    "    f.close()\n",
    "    return baskets"
   ]
  },
  {
   "cell_type": "code",
   "execution_count": 64,
   "metadata": {},
   "outputs": [
    {
     "data": {
      "text/plain": [
       "{'1': [('1234', 2), ('33', 1)],\n",
       " '2': [('1234', 1), ('39', 2), ('452', 1)],\n",
       " '3': [('888', 2), ('111', 1)],\n",
       " '4': [('33', 1)],\n",
       " '5': [('8', 2), ('1234', 1)],\n",
       " '6': [('6', 1), ('33', 2), ('12', 2), ('999', 1)]}"
      ]
     },
     "execution_count": 64,
     "metadata": {},
     "output_type": "execute_result"
    }
   ],
   "source": [
    "baskets = read_baskets('retail/baskets.csv')\n",
    "baskets"
   ]
  },
  {
   "cell_type": "code",
   "execution_count": 65,
   "metadata": {},
   "outputs": [
    {
     "data": {
      "text/plain": [
       "{'111': ('beer', 6.99),\n",
       " '12': ('toothpaste', 4.99),\n",
       " '1234': ('bananas', 0.33),\n",
       " '33': ('apples', 0.49),\n",
       " '39': ('chicken', 7.72),\n",
       " '452': ('soup', 1.5),\n",
       " '6': ('soap', 2.99),\n",
       " '8': ('newspaper', 1.0),\n",
       " '888': ('potato chips', 2.99),\n",
       " '999': ('coffee', 13.99)}"
      ]
     },
     "execution_count": 65,
     "metadata": {},
     "output_type": "execute_result"
    }
   ],
   "source": [
    "inventory = read_inventory('retail/products.csv')\n",
    "inventory"
   ]
  },
  {
   "cell_type": "code",
   "execution_count": null,
   "metadata": {},
   "outputs": [],
   "source": []
  },
  {
   "cell_type": "code",
   "execution_count": null,
   "metadata": {},
   "outputs": [],
   "source": []
  },
  {
   "cell_type": "code",
   "execution_count": null,
   "metadata": {},
   "outputs": [],
   "source": []
  }
 ],
 "metadata": {
  "kernelspec": {
   "display_name": "Python 3",
   "language": "python",
   "name": "python3"
  },
  "language_info": {
   "codemirror_mode": {
    "name": "ipython",
    "version": 3
   },
   "file_extension": ".py",
   "mimetype": "text/x-python",
   "name": "python",
   "nbconvert_exporter": "python",
   "pygments_lexer": "ipython3",
   "version": "3.6.2"
  }
 },
 "nbformat": 4,
 "nbformat_minor": 2
}
