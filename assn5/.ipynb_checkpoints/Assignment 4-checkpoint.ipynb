{
 "cells": [
  {
   "cell_type": "markdown",
   "metadata": {},
   "source": [
    "# Chapter 5, Problem #2, Part 1"
   ]
  },
  {
   "cell_type": "markdown",
   "metadata": {},
   "source": [
    "*Fermat's Last Theorem says that there are no positive integers a, b, c such that*\n",
    "$$a^n + b^n = c^n$$\n",
    "*for any values of n greater than 2.*"
   ]
  },
  {
   "cell_type": "markdown",
   "metadata": {},
   "source": [
    "1. Write a function named check_fermat that takes four parameters -- a, b, c and n -- and checks to see if Fermat's theorem holds. If n is greater than 2 and \n",
    "$$a^n + b^n = c^n$$\n",
    "the program should print, \"Holy smokes, Fermat was wrong!\" Otherwise the program should print, \"No, that doesn't work.\""
   ]
  },
  {
   "cell_type": "code",
   "execution_count": 2,
   "metadata": {},
   "outputs": [],
   "source": [
    "def check_fermat(a,b,c,n):\n",
    "    print(\"\")\n",
    "    if n > 2: \n",
    "        if a**n + b**n == c**n:\n",
    "            print(\"Holy smokes, Fermat was wrong!\")\n",
    "            return\n",
    "        else: \n",
    "            print(\"No, that doesn't work.\")\n",
    "            return\n",
    "            \n",
    "    else:\n",
    "        print(\"n is not greater than 2.\")\n",
    "        return\n",
    "    "
   ]
  },
  {
   "cell_type": "code",
   "execution_count": 8,
   "metadata": {},
   "outputs": [
    {
     "name": "stdout",
     "output_type": "stream",
     "text": [
      "No, that doesn't work.\n",
      "No, that doesn't work.\n",
      "No, that doesn't work.\n",
      "No, that doesn't work.\n",
      "No, that doesn't work.\n"
     ]
    }
   ],
   "source": [
    "check_fermat(2,2,2,3)\n",
    "check_fermat(4,5,6,3)\n",
    "check_fermat(7,8,2,4)\n",
    "check_fermat(2,5,2,6)\n",
    "check_fermat(1,1,1,3)"
   ]
  },
  {
   "cell_type": "markdown",
   "metadata": {},
   "source": [
    "# Chapter 5, Problem #3, Part 1"
   ]
  },
  {
   "cell_type": "markdown",
   "metadata": {},
   "source": [
    "*If you are given three sticks, you may or may not be able to arrange them in a triangle. For example, if one of the sticks is 12 inches long and the other two are one inch long, you will not be able to get the short sticks to meet in the middle. For any three lengths, there is a simple test to see if it is possible to form a triangle: *\n",
    "\n",
    "*If any of the three lengths is greater than the sum of the other two, then you cannot form a triangle. Otherwise, you can. (If the sum of two lengths equals the third, they form what is called a \"degenerate\" triangle*\n",
    "\n",
    "1. Write a function named is_triangle that takes three integers as arguments, and that prints either \"Yes\" or \"No\", depending on whether you can or cannot form a triangle from sticks with the given lengths."
   ]
  },
  {
   "cell_type": "code",
   "execution_count": 22,
   "metadata": {},
   "outputs": [],
   "source": [
    "def is_triangle(a, b, c):\n",
    "    if a > b + c:\n",
    "        print(\"Yes\")\n",
    "        return\n",
    "    if b > a + c:\n",
    "        print(\"Yes\")\n",
    "        return\n",
    "    if c > a + b:\n",
    "        print(\"Yes\")\n",
    "        return\n",
    "    else:\n",
    "        print(\"No\")\n",
    "        return"
   ]
  },
  {
   "cell_type": "code",
   "execution_count": 23,
   "metadata": {},
   "outputs": [
    {
     "name": "stdout",
     "output_type": "stream",
     "text": [
      "No\n",
      "Yes\n",
      "No\n"
     ]
    }
   ],
   "source": [
    "is_triangle(1,2,3) # Degenerate triangle, should be no. \n",
    "is_triangle(1,2,6) # 6 > 1 + 2, should be true.\n",
    "is_triangle(2,2,3) # 3 > 2 + 2, is not true."
   ]
  },
  {
   "cell_type": "markdown",
   "metadata": {},
   "source": [
    "# Chapter 6, Problem 2"
   ]
  },
  {
   "cell_type": "markdown",
   "metadata": {},
   "source": [
    "*The Ackermann function, A(m,n), is defined:*\n",
    "\n",
    "%Shown in book%\n",
    "\n",
    "*Write a function named ack that evaluates the Ackermann function. Use your function to evaluate ack(3,4), which should be 125. What happens for larger values of m and n?*"
   ]
  },
  {
   "cell_type": "code",
   "execution_count": 2,
   "metadata": {},
   "outputs": [],
   "source": [
    "def ack(m,n):\n",
    "    if m == 0:\n",
    "        n = n + 1\n",
    "        return n\n",
    "    if m > 0:\n",
    "        if n == 0:\n",
    "            return ack(m-1,1)\n",
    "        if n > 0:\n",
    "            return ack(m-1, ack(m,n-1))"
   ]
  },
  {
   "cell_type": "code",
   "execution_count": 4,
   "metadata": {},
   "outputs": [
    {
     "name": "stdout",
     "output_type": "stream",
     "text": [
      "n is 125\n"
     ]
    }
   ],
   "source": [
    "x = ack(3,4)\n",
    "print(\"n is\", x)"
   ]
  },
  {
   "cell_type": "markdown",
   "metadata": {},
   "source": [
    "For larger values of m and n, it takes a much longer time to recursively iterate and and produces large numbers."
   ]
  },
  {
   "cell_type": "markdown",
   "metadata": {},
   "source": [
    "# Chapter 6, Problem 5"
   ]
  },
  {
   "cell_type": "markdown",
   "metadata": {},
   "source": [
    "*The greatest common divisor (GCD) of a and b is the largest number that divides both of them with no remaineder.*\n",
    "\n",
    "*One way to find the GCD of two numbers is based on the observation that if r is the remainder when a is divided by b, then gcd(a,b) = gcd(b,r). As a base case, we can use gcd(a,0) = a.*\n",
    "\n",
    "*Write a function called gcd that takes parameters a and b and returns their greatest common divisor.*"
   ]
  },
  {
   "cell_type": "code",
   "execution_count": 85,
   "metadata": {},
   "outputs": [],
   "source": [
    "def gcd(a,b):     # Find greatest divisior where 'b' > 'a'\n",
    "    for x in range(1,a+1):\n",
    "        if ( ((a % x) == 0) and ((b % x) == 0) ):     # checks remainder for both divisions\n",
    "            r = x                                     # iterates through range, highest int is saved as r\n",
    "            print(\"A common divisor between %i and %i is %i\" % (a, b, x))     # prints each divisor\n",
    "    print(\"The greatest common divisor is\", r)        # prints greatest divisor\n",
    "    return r"
   ]
  },
  {
   "cell_type": "code",
   "execution_count": 95,
   "metadata": {},
   "outputs": [
    {
     "name": "stdout",
     "output_type": "stream",
     "text": [
      "A common divisor between 200 and 3000 is 1\n",
      "A common divisor between 200 and 3000 is 2\n",
      "A common divisor between 200 and 3000 is 4\n",
      "A common divisor between 200 and 3000 is 5\n",
      "A common divisor between 200 and 3000 is 8\n",
      "A common divisor between 200 and 3000 is 10\n",
      "A common divisor between 200 and 3000 is 20\n",
      "A common divisor between 200 and 3000 is 25\n",
      "A common divisor between 200 and 3000 is 40\n",
      "A common divisor between 200 and 3000 is 50\n",
      "A common divisor between 200 and 3000 is 100\n",
      "A common divisor between 200 and 3000 is 200\n",
      "The greatest common divisor is 200\n"
     ]
    },
    {
     "data": {
      "text/plain": [
       "200"
      ]
     },
     "execution_count": 95,
     "metadata": {},
     "output_type": "execute_result"
    }
   ],
   "source": [
    "gcd(200,3000)"
   ]
  },
  {
   "cell_type": "markdown",
   "metadata": {},
   "source": [
    "# Chapter 10, Problem 2"
   ]
  },
  {
   "cell_type": "markdown",
   "metadata": {},
   "source": [
    "*Write a function called cumsum that takes a list of numbers and returns the cumulative sum; that is, a new list where the ith element is the sum of the first i + 1 elements fromt he original list.*"
   ]
  },
  {
   "cell_type": "code",
   "execution_count": 115,
   "metadata": {},
   "outputs": [],
   "source": [
    "def cumsum(l):     # l is a list of numbers\n",
    "    nl = []        # new list\n",
    "    element = 0    # total for i'th element\n",
    "    for i in l:    # iterate through elements of supplied list\n",
    "        element += i           # element = i'th elements previous\n",
    "        nl.append(element)     # add total of previous elements to the end of the list\n",
    "    return nl      # returns new list"
   ]
  },
  {
   "cell_type": "code",
   "execution_count": 120,
   "metadata": {},
   "outputs": [
    {
     "data": {
      "text/plain": [
       "[1, 3, 6, 10, 15, 21, 28, 36, 45, 55, 66, 78, 91, 105, 120, 136, 153, 171, 190]"
      ]
     },
     "execution_count": 120,
     "metadata": {},
     "output_type": "execute_result"
    }
   ],
   "source": [
    "cumsum(range(1,20))"
   ]
  }
 ],
 "metadata": {
  "kernelspec": {
   "display_name": "Python 3",
   "language": "python",
   "name": "python3"
  },
  "language_info": {
   "codemirror_mode": {
    "name": "ipython",
    "version": 3
   },
   "file_extension": ".py",
   "mimetype": "text/x-python",
   "name": "python",
   "nbconvert_exporter": "python",
   "pygments_lexer": "ipython3",
   "version": "3.6.2"
  }
 },
 "nbformat": 4,
 "nbformat_minor": 2
}
