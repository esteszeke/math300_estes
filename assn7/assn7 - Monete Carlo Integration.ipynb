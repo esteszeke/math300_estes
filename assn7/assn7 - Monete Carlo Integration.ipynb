{
 "cells": [
  {
   "cell_type": "markdown",
   "metadata": {},
   "source": [
    "# Import Essential Libraries"
   ]
  },
  {
   "cell_type": "code",
   "execution_count": 3,
   "metadata": {},
   "outputs": [],
   "source": [
    "import numpy as np\n",
    "import sympy as sp\n",
    "import scipy as sc\n",
    "import matplotlib.pyplot as plt\n",
    "from numba import jit"
   ]
  },
  {
   "cell_type": "markdown",
   "metadata": {},
   "source": [
    "# Calculate the symbolic integral of f(x)"
   ]
  },
  {
   "cell_type": "code",
   "execution_count": 4,
   "metadata": {},
   "outputs": [],
   "source": [
    "x = sp.symbols('x')\n",
    "function = (x**3)*(sp.sin(4*x))\n",
    "f = sp.integrate( function, x )"
   ]
  },
  {
   "cell_type": "markdown",
   "metadata": {},
   "source": [
    "### f'(x)"
   ]
  },
  {
   "cell_type": "code",
   "execution_count": 5,
   "metadata": {},
   "outputs": [
    {
     "data": {
      "text/plain": [
       "-x**3*cos(4*x)/4 + 3*x**2*sin(4*x)/16 + 3*x*cos(4*x)/32 - 3*sin(4*x)/128"
      ]
     },
     "execution_count": 5,
     "metadata": {},
     "output_type": "execute_result"
    }
   ],
   "source": [
    "f"
   ]
  },
  {
   "cell_type": "markdown",
   "metadata": {},
   "source": [
    "# Implement Monte Carlo integrator"
   ]
  },
  {
   "cell_type": "code",
   "execution_count": 40,
   "metadata": {},
   "outputs": [],
   "source": [
    "def f(x):\n",
    "    return ((x**3)*(np.sin(4*x)))"
   ]
  },
  {
   "cell_type": "code",
   "execution_count": 41,
   "metadata": {},
   "outputs": [],
   "source": [
    "@jit\n",
    "def mcintegrate(a,b,n,f):\n",
    "    \n",
    "    # a --> b, ingration limits\n",
    "    # n, number of samples to take\n",
    "    # function integrating [ f(x) = x^3 * SIN(4 * x) ]\n",
    "    \n",
    "    # psuedo code: [ (b-a)/a * sum(i=1, n, f(xi)) ]\n",
    "    np.random.seed(1)\n",
    "    c = (b - a)/n\n",
    "    summation = 0\n",
    "    for i in range(n): \n",
    "        ran = np.random.rand()*(b-a)+a\n",
    "        summation = summation + f(ran)\n",
    "    return c*summation"
   ]
  },
  {
   "cell_type": "code",
   "execution_count": 42,
   "metadata": {},
   "outputs": [
    {
     "data": {
      "text/plain": [
       "78.896573187131708"
      ]
     },
     "execution_count": 42,
     "metadata": {},
     "output_type": "execute_result"
    }
   ],
   "source": [
    "mcintegrate(1.0,7.0,1000,f)"
   ]
  },
  {
   "cell_type": "markdown",
   "metadata": {},
   "source": [
    "# Studying the Error"
   ]
  },
  {
   "cell_type": "code",
   "execution_count": 43,
   "metadata": {},
   "outputs": [
    {
     "data": {
      "text/plain": [
       "84.4163716059117"
      ]
     },
     "execution_count": 43,
     "metadata": {},
     "output_type": "execute_result"
    }
   ],
   "source": [
    "absolute = sp.integrate( function, (x, 1.0, 7.00))\n",
    "absolute"
   ]
  },
  {
   "cell_type": "code",
   "execution_count": 44,
   "metadata": {},
   "outputs": [],
   "source": [
    "# List of samples (x-axis)\n",
    "samples = []\n",
    "for i in range(1000,101000,1000):\n",
    "    samples.append(i)"
   ]
  },
  {
   "cell_type": "code",
   "execution_count": 45,
   "metadata": {},
   "outputs": [],
   "source": [
    "# List of estimates\n",
    "estimate = []\n",
    "for i in samples:\n",
    "    n = mcintegrate(1.0, 7.0, i, f)\n",
    "    estimate.append( n )"
   ]
  },
  {
   "cell_type": "code",
   "execution_count": 46,
   "metadata": {},
   "outputs": [],
   "source": [
    "# List of errors using numpy's absolute error\n",
    "error = []\n",
    "for i in estimate:\n",
    "    er = np.absolute(absolute - i)\n",
    "    error.append(er)"
   ]
  },
  {
   "cell_type": "code",
   "execution_count": 47,
   "metadata": {},
   "outputs": [
    {
     "data": {
      "image/png": "[encoded data removed]",
      "text/plain": [
       "<matplotlib.figure.Figure at 0x111428400>"
      ]
     },
     "metadata": {},
     "output_type": "display_data"
    }
   ],
   "source": [
    "# Plots Number of Samples (samples) vs Error error\n",
    "plt.plot(samples, error)\n",
    "plt.ylabel(\"Error\")\n",
    "plt.xlabel(\"Number of Samples\")\n",
    "plt.show()"
   ]
  },
  {
   "cell_type": "code",
   "execution_count": null,
   "metadata": {},
   "outputs": [],
   "source": []
  }
 ],
 "metadata": {
  "kernelspec": {
   "display_name": "Python 3",
   "language": "python",
   "name": "python3"
  },
  "language_info": {
   "codemirror_mode": {
    "name": "ipython",
    "version": 3
   },
   "file_extension": ".py",
   "mimetype": "text/x-python",
   "name": "python",
   "nbconvert_exporter": "python",
   "pygments_lexer": "ipython3",
   "version": "3.6.3"
  }
 },
 "nbformat": 4,
 "nbformat_minor": 2
}
