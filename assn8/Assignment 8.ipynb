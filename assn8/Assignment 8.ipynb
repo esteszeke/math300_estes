{
 "cells": [
  {
   "cell_type": "markdown",
   "metadata": {},
   "source": [
    "# Homework 8: I/O and data structures practice"
   ]
  },
  {
   "cell_type": "markdown",
   "metadata": {},
   "source": [
    "## Goal"
   ]
  },
  {
   "cell_type": "markdown",
   "metadata": {},
   "source": [
    "In this assignment we will practice working with files, more practice with dictionaries, and performing some basic geometric computations. Recall earlier in the course I walked through an example of processing retail data where we\n",
    "had data about a set of products in a store, and the set of baskets that people bought.  We will work\n",
    "with that and extend it a little for this assignment.  Our working data will be the following:\n",
    "\n",
    "- _Product inventory_: This will be a table of products where each row corresponds to one product, and each column represents a property of the objects.  Specifically, our product inventory table will have five columns: a unique product ID, a text description of the product, a unit price in dollars, an X coordinate, and a Y coordinate.\n",
    "\n",
    "- _Sales data_: This will be a table of records from the point of sale system.  Each row will correspond to an item in a basket.  The columns will be the basket ID, the product ID, product quantity, and the product pick up order.  The product pick up order for a basket containing $n$ items will range from 1 to $n$ and corresponds to the order that the customer picked up the products as they went through the store.\n",
    "\n",
    "We will also be provided additional parameters about the store.  Specifically, we will be given the X,Y\n",
    "coordinates of the entry door, the checkout stand, and the exit door.  We are going to assume that this\n",
    "store has only one checkout line and all customers are good at following signs and always use the appropriate door for entry and exit.  We are also going to assume that customers have the magical ability to teleport through shelves so that they can take the shortest path from one product to the next, allowing us to avoid worrying about complex calculations of the distance between any two products.\n",
    "\n",
    "The coordinates of the entrance, exit, and checkout are:"
   ]
  },
  {
   "cell_type": "code",
   "execution_count": 22,
   "metadata": {},
   "outputs": [],
   "source": [
    "import math"
   ]
  },
  {
   "cell_type": "code",
   "execution_count": 23,
   "metadata": {},
   "outputs": [],
   "source": [
    "store_entrance = (10,0)\n",
    "store_exit = (90,0)\n",
    "store_checkout = (50,10)"
   ]
  },
  {
   "cell_type": "markdown",
   "metadata": {},
   "source": [
    "## Sample I/O code"
   ]
  },
  {
   "cell_type": "markdown",
   "metadata": {},
   "source": [
    "To get you started, here is code that reads in the inventory data from the CSV file and produces a dictionary of dictionaries.  The outer dictionary maps product IDs as strings to the inner dictionary, and the inner dictionary for each product maps an attribute (e.g., 'unit_price') to its value.  Numerical values are stored as floating point numbers, _not strings_."
   ]
  },
  {
   "cell_type": "code",
   "execution_count": 24,
   "metadata": {},
   "outputs": [],
   "source": [
    "import csv"
   ]
  },
  {
   "cell_type": "code",
   "execution_count": 25,
   "metadata": {},
   "outputs": [],
   "source": [
    "def read_inventory(filename):\n",
    "    # initialize empty dict\n",
    "    inventory={}\n",
    "    \n",
    "    # open the given file and name the file handle f\n",
    "    with open(filename) as f:\n",
    "        # create a CSV reader object from the file\n",
    "        reader = csv.reader(f)\n",
    "        \n",
    "        # advance the reader to skip the first header line\n",
    "        next(reader)\n",
    "        \n",
    "        # for each row in the CSV file, create the appropriate\n",
    "        # entry in the inventory.  this includes converting the\n",
    "        # strings for price, x, and y into floats so we can do\n",
    "        # arithmetic with them later.\n",
    "        for row in reader:\n",
    "            inventory[row[0]] = { 'desc':row[1],\n",
    "                                  'unit_price':float(row[2]),\n",
    "                                  'x':float(row[3]),\n",
    "                                  'y':float(row[4]) }\n",
    "            \n",
    "        return inventory"
   ]
  },
  {
   "cell_type": "code",
   "execution_count": 26,
   "metadata": {},
   "outputs": [],
   "source": [
    "inventory = read_inventory('inventory.csv')"
   ]
  },
  {
   "cell_type": "markdown",
   "metadata": {},
   "source": [
    "Test it: what is the price of product ID 4?"
   ]
  },
  {
   "cell_type": "code",
   "execution_count": 27,
   "metadata": {},
   "outputs": [
    {
     "data": {
      "text/plain": [
       "0.39"
      ]
     },
     "execution_count": 27,
     "metadata": {},
     "output_type": "execute_result"
    }
   ],
   "source": [
    "inventory['4']['unit_price']"
   ]
  },
  {
   "cell_type": "code",
   "execution_count": 28,
   "metadata": {},
   "outputs": [
    {
     "data": {
      "text/plain": [
       "{'desc': 'apple', 'unit_price': 0.49, 'x': 4.0, 'y': 70.0}"
      ]
     },
     "execution_count": 28,
     "metadata": {},
     "output_type": "execute_result"
    }
   ],
   "source": [
    "inventory['2']"
   ]
  },
  {
   "cell_type": "markdown",
   "metadata": {},
   "source": [
    "## Part 1: read the basket data"
   ]
  },
  {
   "cell_type": "markdown",
   "metadata": {},
   "source": [
    "Complete the following function to return a dictionary mapping basket ID to some data structure of your choice to represent the basket contents."
   ]
  },
  {
   "cell_type": "code",
   "execution_count": 29,
   "metadata": {},
   "outputs": [],
   "source": [
    "def read_baskets(filename):\n",
    "    # initialize the empty dict\n",
    "    baskets = {}\n",
    "    \n",
    "    # open the given file and name the file handle f\n",
    "    with open(filename, 'r') as f:\n",
    "        reader = csv.reader(f)\n",
    "        next(reader)\n",
    "        \n",
    "        items = []\n",
    "        basket_ids = []\n",
    "        \n",
    "        for row in reader:\n",
    "            items.append(row)\n",
    "            if row[0] not in basket_ids:\n",
    "                basket_ids.append(row[0])\n",
    "                \n",
    "        for basket_id in basket_ids:\n",
    "            baskets[basket_id] = []\n",
    "        \n",
    "        for item in items: \n",
    "            baskets[item[0]].append({\n",
    "                'product_id': item[1],\n",
    "                'quantity': float(item[2]),\n",
    "                'pickup_order': float(item[3])\n",
    "            })\n",
    "\n",
    "        return baskets"
   ]
  },
  {
   "cell_type": "code",
   "execution_count": 30,
   "metadata": {},
   "outputs": [],
   "source": [
    "baskets = read_baskets('baskets.csv')"
   ]
  },
  {
   "cell_type": "code",
   "execution_count": 44,
   "metadata": {},
   "outputs": [
    {
     "data": {
      "text/plain": [
       "[{'pickup_order': 1.0, 'product_id': '1', 'quantity': 2.0},\n",
       " {'pickup_order': 2.0, 'product_id': '3', 'quantity': 1.0}]"
      ]
     },
     "execution_count": 44,
     "metadata": {},
     "output_type": "execute_result"
    }
   ],
   "source": [
    "baskets['1']"
   ]
  },
  {
   "cell_type": "code",
   "execution_count": 32,
   "metadata": {},
   "outputs": [
    {
     "data": {
      "text/plain": [
       "'1'"
      ]
     },
     "execution_count": 32,
     "metadata": {},
     "output_type": "execute_result"
    }
   ],
   "source": [
    "baskets['1'][0]['product_id']"
   ]
  },
  {
   "cell_type": "code",
   "execution_count": 33,
   "metadata": {},
   "outputs": [
    {
     "data": {
      "text/plain": [
       "'3'"
      ]
     },
     "execution_count": 33,
     "metadata": {},
     "output_type": "execute_result"
    }
   ],
   "source": [
    "baskets['1'][1]['product_id']"
   ]
  },
  {
   "cell_type": "code",
   "execution_count": 34,
   "metadata": {},
   "outputs": [
    {
     "name": "stdout",
     "output_type": "stream",
     "text": [
      " \n",
      "Basket: 1\n",
      "banana\n",
      "cucumber\n",
      "Total basket cost: 1.97\n",
      " \n",
      "Basket: 2\n",
      "banana\n",
      "onion\n",
      "cucumber\n",
      "cheddar cheese\n",
      "Total basket cost: 17.85\n",
      " \n",
      "Basket: 3\n",
      "coffee\n",
      "potato chips\n",
      "coca cola classic 6-pack\n",
      "Total basket cost: 21.950000000000003\n",
      " \n",
      "Basket: 4\n",
      "whole milk\n",
      "cucumber\n",
      "salsa\n",
      "ground beef 1lb\n",
      "whole wheat fig bars\n",
      "taco shells\n",
      "Total basket cost: 29.43\n",
      " \n",
      "Basket: 5\n",
      "banana\n",
      "apple\n",
      "cucumber\n",
      "onion\n",
      "Total basket cost: 18.88\n",
      " \n",
      "Basket: 6\n",
      "onion\n",
      "cucumber\n",
      "apple\n",
      "banana\n",
      "Total basket cost: 4.23\n",
      " \n",
      "Basket: 7\n",
      "coffee\n",
      "taco shells\n",
      "Total basket cost: 13.49\n",
      " \n",
      "Basket: 8\n",
      "whole milk\n",
      "Total basket cost: 1.99\n",
      " \n",
      "Basket: 9\n",
      "whole milk\n",
      "whole wheat fig bars\n",
      "coca cola classic 6-pack\n",
      "onion\n",
      "salsa\n",
      "Total basket cost: 27.5\n",
      " \n",
      "Basket: 10\n",
      "banana\n",
      "cucumber\n",
      "potato chips\n",
      "whole milk\n",
      "Total basket cost: 8.44\n"
     ]
    }
   ],
   "source": [
    "# need to print every item in the 'baskets' dictionary\n",
    "for i in baskets:\n",
    "    total_price = 0\n",
    "    print(\" \")\n",
    "    print(\"Basket:\", i)\n",
    "    basket_number = str(i)\n",
    "    for n in baskets[basket_number]:\n",
    "        # print(n)\n",
    "        product = str(n['product_id'])\n",
    "        print( inventory[product]['desc'])\n",
    "        total_price += inventory[product]['unit_price'] * n['quantity']\n",
    "    print(\"Total basket cost:\", total_price)"
   ]
  },
  {
   "cell_type": "markdown",
   "metadata": {},
   "source": [
    "## Part 2: Calculate the path length of each customer"
   ]
  },
  {
   "cell_type": "markdown",
   "metadata": {},
   "source": [
    "Given the basket data and inventory data, write a function that calculates the distance traveled by a customer through the store.  Their trip should go entry -> first product -> second product -> ... -> checkout -> exit.  You should assume that the customer takes a straight path from each point to the next."
   ]
  },
  {
   "cell_type": "code",
   "execution_count": 35,
   "metadata": {},
   "outputs": [],
   "source": [
    "def dist(a, b):                                 # Distance to points passed to function\n",
    "    return math.hypot(b[0] - a[0], b[1] - a[1])\n",
    "\n",
    "def customer_trip(inventory, baskets, basket_id):\n",
    "                                                # pre-defined: store_entrance, store_exit, store_checkout\n",
    "    item_locations = []                         # init empty list of item locations\n",
    "    \n",
    "    total_distance = 0                          # init dist length for basket\n",
    "    basket_number = str(basket_id)              # convert basket number is a string\n",
    "    \n",
    "    for n in baskets[basket_number]:            # gather products listing and add item location to list\n",
    "        item = str( inventory[ n['product_id'] ]['desc'] )\n",
    "        item_location_x = inventory[ n['product_id'] ]['x']\n",
    "        item_location_y = inventory[ n['product_id'] ]['y']\n",
    "        item_locations.append( (item_location_x, item_location_y))\n",
    " \n",
    "    # print('List of item locations:', item_locations)                   # print the list of all item locations\n",
    "    \n",
    "    total_distance += dist(store_entrance, item_locations[0])          # store_entrance --> first item \n",
    "    \n",
    "    for i in range(1, len(item_locations)):\n",
    "        total_distance += dist(item_locations[1], item_locations[i-1]) # first item --> second item --> n items\n",
    "        \n",
    "    total_distance += dist(item_locations[-1], store_checkout)         # last item --> store_checkout\n",
    "    \n",
    "    total_distance += dist(store_checkout, store_exit)                 # store_checkout --> store_exit\n",
    "    \n",
    "    return total_distance"
   ]
  },
  {
   "cell_type": "code",
   "execution_count": 36,
   "metadata": {},
   "outputs": [
    {
     "name": "stdout",
     "output_type": "stream",
     "text": [
      "Total distance for basket is 215.93949787012758\n",
      "Total distance for basket is 193.48802396347443\n",
      "Total distance for basket is 251.81709268444462\n",
      "Total distance for basket is 352.86596943976394\n",
      "Total distance for basket is 216.4556448800485\n",
      "Total distance for basket is 229.47637975508894\n",
      "Total distance for basket is 244.36564958947673\n",
      "Total distance for basket is 219.71963427413766\n",
      "Total distance for basket is 330.140504873586\n",
      "Total distance for basket is 247.93214532645038\n"
     ]
    }
   ],
   "source": [
    "for i in baskets:\n",
    "    distance = customer_trip(inventory, baskets, i)\n",
    "    print('Total distance for basket is',distance)"
   ]
  },
  {
   "cell_type": "markdown",
   "metadata": {},
   "source": [
    "## Part 3: Calculate the total price for each basket"
   ]
  },
  {
   "cell_type": "markdown",
   "metadata": {},
   "source": [
    "Given the basket and inventory data, write a function that calculates the total cost of a basket."
   ]
  },
  {
   "cell_type": "code",
   "execution_count": 37,
   "metadata": {},
   "outputs": [],
   "source": [
    "def basket_total(inventory, baskets, basket_id):\n",
    "    \n",
    "    total_price = 0\n",
    "    basket_number = str(basket_id)\n",
    "    \n",
    "    for n in baskets[basket_number]:\n",
    "        # print(n)\n",
    "        product = str(n['product_id'])\n",
    "        total_price += inventory[product]['unit_price'] * n['quantity']\n",
    "\n",
    "    # print(\"Total basket cost:\", total_price)\n",
    "    return total_price"
   ]
  },
  {
   "cell_type": "code",
   "execution_count": 38,
   "metadata": {},
   "outputs": [
    {
     "name": "stdout",
     "output_type": "stream",
     "text": [
      "Total basket cost is 1.97\n",
      "Total basket cost is 17.85\n",
      "Total basket cost is 21.950000000000003\n",
      "Total basket cost is 29.43\n",
      "Total basket cost is 18.88\n",
      "Total basket cost is 4.23\n",
      "Total basket cost is 13.49\n",
      "Total basket cost is 1.99\n",
      "Total basket cost is 27.5\n",
      "Total basket cost is 8.44\n"
     ]
    }
   ],
   "source": [
    "for i in baskets:\n",
    "    price = basket_total(inventory, baskets, i)\n",
    "    print('Total basket cost is', price)"
   ]
  },
  {
   "cell_type": "markdown",
   "metadata": {},
   "source": [
    "## Part 4: Calculate the price per unit of distance traveled for all baskets"
   ]
  },
  {
   "cell_type": "markdown",
   "metadata": {},
   "source": [
    "For each basket we have a distance traveled and a total price.  Write a function that returns a dictionary mapping the basket ID to the price per unit distance travelled."
   ]
  },
  {
   "cell_type": "code",
   "execution_count": 43,
   "metadata": {},
   "outputs": [
    {
     "name": "stdout",
     "output_type": "stream",
     "text": [
      "215.93949787012758\n",
      "1.97\n",
      "0.0091229257242453\n",
      "193.48802396347443\n",
      "17.85\n",
      "0.0922537717547295\n",
      "251.81709268444462\n",
      "21.950000000000003\n",
      "0.08716644198376892\n",
      "352.86596943976394\n",
      "29.43\n",
      "0.08340277201206237\n",
      "216.4556448800485\n",
      "18.88\n",
      "0.08722341249387411\n",
      "229.47637975508894\n",
      "4.23\n",
      "0.018433269709564496\n",
      "244.36564958947673\n",
      "13.49\n",
      "0.055204158287642274\n",
      "219.71963427413766\n",
      "1.99\n",
      "0.00905699668841218\n",
      "330.140504873586\n",
      "27.5\n",
      "0.08329786740506143\n",
      "247.93214532645038\n",
      "8.44\n",
      "0.03404157209581321\n",
      "{'1': {'ratio': 0.03404157209581321}, '2': {'ratio': 0.0922537717547295}, '3': {'ratio': 0.08716644198376892}, '4': {'ratio': 0.08340277201206237}, '5': {'ratio': 0.08722341249387411}, '6': {'ratio': 0.018433269709564496}, '7': {'ratio': 0.055204158287642274}, '8': {'ratio': 0.00905699668841218}, '9': {'ratio': 0.08329786740506143}}\n"
     ]
    }
   ],
   "source": [
    "price_per_unit_trav = {}\n",
    "for i in baskets:\n",
    "    distance = customer_trip(inventory, baskets, i)\n",
    "    print(distance)\n",
    "    price = basket_total(inventory, baskets, i)\n",
    "    print(price)\n",
    "    div = price / distance\n",
    "    print(div)\n",
    "    \n",
    "    price_per_unit_trav[ i[0] ] = { 'ratio':div }\n",
    "\n",
    "print(price_per_unit_trav)\n",
    "\n",
    "    \n"
   ]
  },
  {
   "cell_type": "markdown",
   "metadata": {},
   "source": [
    "## Part 5: EXTRA CREDIT.  \n",
    "\n",
    "### Calculate the difference between the length of the path each customer took versus the shortest path they could have taken."
   ]
  },
  {
   "cell_type": "markdown",
   "metadata": {},
   "source": [
    "Each customer may have travelled the store inefficiently.  We would like to know the excess distance each customer covered versus what they could have done had they planned their trip more carefully.  Write a function that calculates the shortest path that a customer could have taken."
   ]
  },
  {
   "cell_type": "code",
   "execution_count": 40,
   "metadata": {},
   "outputs": [],
   "source": [
    "def customer_shortest_trip(inventory, baskets, basket_id):\n",
    "    # fill me in\n",
    "    pass"
   ]
  },
  {
   "cell_type": "code",
   "execution_count": null,
   "metadata": {},
   "outputs": [],
   "source": []
  },
  {
   "cell_type": "code",
   "execution_count": null,
   "metadata": {},
   "outputs": [],
   "source": []
  }
 ],
 "metadata": {
  "kernelspec": {
   "display_name": "Python 3",
   "language": "python",
   "name": "python3"
  },
  "language_info": {
   "codemirror_mode": {
    "name": "ipython",
    "version": 3
   },
   "file_extension": ".py",
   "mimetype": "text/x-python",
   "name": "python",
   "nbconvert_exporter": "python",
   "pygments_lexer": "ipython3",
   "version": "3.6.3"
  }
 },
 "nbformat": 4,
 "nbformat_minor": 2
}
