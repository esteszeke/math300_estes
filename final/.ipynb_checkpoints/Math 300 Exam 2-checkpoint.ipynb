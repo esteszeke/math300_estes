{
 "cells": [
  {
   "cell_type": "markdown",
   "metadata": {},
   "source": [
    "# Math 300, Fall 2017\n",
    "# Final Exam\n",
    "\n",
    "Points: 100 total points possible, each question is worth 10 points.\n",
    "\n",
    "## Instructions\n",
    "\n",
    "- You must complete the exam by 6pm Tuesday, Dec. 12.\n",
    "- Work alone: you should not collaborate with others inside or outside the class.\n",
    "- E-mail your completed exam to your instructor.\n",
    "- You may use your notes, posted lecture notes and code, and the Think Python 2e textbook.\n",
    "- *READ EACH QUESTION CAREFULLY!*\n",
    "\n",
    "Please e-mail any questions/clarification requests - I will post the my responses for the class to see on the blackboard announcements page.\n",
    "\n",
    "Each question is followed by an code cell for your answers.  For non-code answers, you should make the answer cell a  markdown cell."
   ]
  },
  {
   "cell_type": "markdown",
   "metadata": {},
   "source": [
    "## Name\n",
    "\n",
    "Please enter your name:"
   ]
  },
  {
   "cell_type": "markdown",
   "metadata": {
    "collapsed": true
   },
   "source": [
    "### Zeke Timberlake Estes"
   ]
  },
  {
   "cell_type": "markdown",
   "metadata": {},
   "source": [
    "## Question 1\n",
    "\n",
    "Which of the following are true statements?\n",
    "\n",
    "- (A) The NTP protocol is used for the timely delivery of news on the Internet, hence the name \"News Transfer Protocol\".\n",
    "- (B) When your web browser connects to a server hosting Jupyter notebooks it communicates via HTTP (or HTTPS).\n",
    "- (C) The underlying technology that most Internet services are built on top of are the TCP and IP protocols.  They are responsible for routing and transmitting packetized data between computers.\n",
    "- (D) DNS is used to translate human readable names for computers into numerical addresses."
   ]
  },
  {
   "cell_type": "code",
   "execution_count": null,
   "metadata": {
    "collapsed": true
   },
   "outputs": [],
   "source": []
  },
  {
   "cell_type": "markdown",
   "metadata": {},
   "source": [
    "## Question 2\n",
    "\n",
    "List three reasons why a distributed team of people should use a version control system like git instead of a filesharing service like Dropbox?\n",
    "\n",
    "(In other words, what are some things that git allows you to do or prevent from happening that a simple shared folder does not?)"
   ]
  },
  {
   "cell_type": "code",
   "execution_count": null,
   "metadata": {
    "collapsed": true
   },
   "outputs": [],
   "source": []
  },
  {
   "cell_type": "markdown",
   "metadata": {},
   "source": [
    "## Question 3\n",
    "\n",
    "Write the following binary number in hexadecimal: 11011110101011011011111011101111"
   ]
  },
  {
   "cell_type": "code",
   "execution_count": 1,
   "metadata": {},
   "outputs": [],
   "source": [
    "# 1101 1110 1010 1101 1011 1110 1110 1111\n"
   ]
  },
  {
   "cell_type": "markdown",
   "metadata": {},
   "source": [
    "## Question 4\n",
    "\n",
    "Half-precision arithmetic has become popular again in machine learning circles.  A half precision floating point number has 16 bits: one sign bit, 5 exponent bits, and 10 significand bits.\n",
    "\n",
    "What are potential undesired consequences of this lower-precision representation over more common representations like single or double precision?"
   ]
  },
  {
   "cell_type": "code",
   "execution_count": null,
   "metadata": {
    "collapsed": true
   },
   "outputs": [],
   "source": []
  },
  {
   "cell_type": "markdown",
   "metadata": {},
   "source": [
    "## Question 5\n",
    "\n",
    "Write the equation corresponding to the following sentence in LaTeX:\n",
    "\n",
    "\"The function f of x is defined as the sum of one third to the z plus 2 power for z ranging from x to x squared.\""
   ]
  },
  {
   "cell_type": "code",
   "execution_count": null,
   "metadata": {
    "collapsed": true
   },
   "outputs": [],
   "source": [
    "$equation here$"
   ]
  },
  {
   "cell_type": "markdown",
   "metadata": {},
   "source": [
    "## Question 6\n",
    "\n"
   ]
  },
  {
   "cell_type": "markdown",
   "metadata": {
    "collapsed": true
   },
   "source": [
    "Define a variable called \"data\" that is a Python dictionary containing the following key-value pairs:\n",
    "\n",
    "| Key | Value  |\n",
    "|-----|--------|\n",
    "| 'x' |   10   |\n",
    "| 'y' |   14.2 |\n",
    "| 'z' |   -4   |\n",
    "\n",
    "The keys should be strings, and the values should be floating point numbers."
   ]
  },
  {
   "cell_type": "code",
   "execution_count": null,
   "metadata": {
    "collapsed": true
   },
   "outputs": [],
   "source": []
  },
  {
   "cell_type": "markdown",
   "metadata": {},
   "source": [
    "## Question 7\n",
    "\n",
    "Write a Python function that calculates the value of the following function:\n",
    "\n",
    "$ f(x) = \\frac{1}{\\sqrt{2\\pi}} exp\\left( -\\frac{x^2}{2} \\right) $\n",
    "\n",
    "Make sure to import whichever module is necessary for the mathematical functions and constants that you use."
   ]
  },
  {
   "cell_type": "code",
   "execution_count": null,
   "metadata": {
    "collapsed": true
   },
   "outputs": [],
   "source": [
    "def f(x):\n",
    "    # remove pass and fill this function body in.\n",
    "    pass"
   ]
  },
  {
   "cell_type": "markdown",
   "metadata": {},
   "source": [
    "## Question 8"
   ]
  },
  {
   "cell_type": "markdown",
   "metadata": {},
   "source": [
    "Write a function that takes a list $x$ and an integer $p$ and produces a new list where the last $p$ elements of $x$ are placed at the front of the array, followed by the $n-p$ elements that were at the front.  \n",
    "\n",
    "For example, let x=[1,2,3,4,5,6] and p be 2.  The result should be [5,6,1,2,3,4].  \n",
    "\n",
    "Similarly, if x=[1,2,3,4,5,6] and p is 5, then the result would be [2,3,4,5,6,1].  \n",
    "\n",
    "If p <= 0 or p is equal to or larger than the length of the list, the function should just return x."
   ]
  },
  {
   "cell_type": "code",
   "execution_count": null,
   "metadata": {
    "collapsed": true
   },
   "outputs": [],
   "source": [
    "def swap_prefix_suffix(x,p):\n",
    "    # remove pass and fill this function body in.\n",
    "    pass"
   ]
  },
  {
   "cell_type": "markdown",
   "metadata": {},
   "source": [
    "## Question 9\n",
    "\n",
    "You are given the following Numpy arrays, $xs$ and $ys$, representing the x and y coordinates of some data points.  \n",
    "\n",
    "Using Matplotlib pyplot, plot them connected by a red line with circles at each data point.  \n",
    "\n",
    "Label the x and y axes with the labels \"X-Coordinate\" and \"Y-Coordinate\" respectively."
   ]
  },
  {
   "cell_type": "code",
   "execution_count": null,
   "metadata": {
    "collapsed": true
   },
   "outputs": [],
   "source": [
    "import numpy as np\n",
    "xs = np.array([-5,-4,-3,-2,-1,0,1,2,3,4,5])\n",
    "ys = np.array([  5.85381311e-06,   5.26943464e-04,   1.74499710e-02,\n",
    "         2.12584166e-01,   9.52736132e-01,   1.57079633e+00,\n",
    "         9.52736132e-01,   2.12584166e-01,   1.74499710e-02,\n",
    "         5.26943464e-04,   5.85381311e-06])\n",
    "\n",
    "# add your plotting code here, including the command to import the appropriate module for plotting\n"
   ]
  },
  {
   "cell_type": "markdown",
   "metadata": {},
   "source": [
    "## Question 10\n",
    "\n",
    "The following code forms the core of an algorithm operating on graphs.  What is its asymptotic time complexity in big-Oh notation?"
   ]
  },
  {
   "cell_type": "code",
   "execution_count": null,
   "metadata": {
    "collapsed": true
   },
   "outputs": [],
   "source": [
    "## assume the following variables are already defined (in this notebook they\n",
    "## are not, so evaluating this cell will result in an error.)\n",
    "##\n",
    "##   n is a positive integer\n",
    "##   successors is a dictionary with integer keys that each map to a list of integers.  \n",
    "##   assume lookup in the dictionary is a constant time (O(1)) operation.\n",
    "##   weight is an n-by-n matrix of floating point values\n",
    "##   dists is an n-by-n matrix of floating point values\n",
    "##\n",
    "\n",
    "# initialize distance matrix\n",
    "for i in range(n):\n",
    "    s = successors[i] # s will be a list with at most n elements\n",
    "    for j in range(len(s)):\n",
    "        dists[i,j] = weight[i,j]\n",
    "\n",
    "# update distance matrix\n",
    "for k in range(n):\n",
    "    for i in range(n):\n",
    "        for j in range(n):\n",
    "            if dists[i,j] > dists[i,k] + dists[k,j]:\n",
    "                dists[i,j] = dists[i,k] + dists[k,j]"
   ]
  },
  {
   "cell_type": "code",
   "execution_count": null,
   "metadata": {
    "collapsed": true
   },
   "outputs": [],
   "source": []
  }
 ],
 "metadata": {
  "kernelspec": {
   "display_name": "Python 3",
   "language": "python",
   "name": "python3"
  },
  "language_info": {
   "codemirror_mode": {
    "name": "ipython",
    "version": 3
   },
   "file_extension": ".py",
   "mimetype": "text/x-python",
   "name": "python",
   "nbconvert_exporter": "python",
   "pygments_lexer": "ipython3",
   "version": "3.6.3"
  }
 },
 "nbformat": 4,
 "nbformat_minor": 2
}
